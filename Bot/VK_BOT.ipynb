{
 "cells": [
  {
   "cell_type": "code",
   "execution_count": 216,
   "metadata": {},
   "outputs": [],
   "source": [
    "import time\n",
    "import requests\n",
    "import vk_api\n",
    "import urllib.request as url\n",
    "from IPython.display import Image"
   ]
  },
  {
   "cell_type": "code",
   "execution_count": 217,
   "metadata": {
    "scrolled": true
   },
   "outputs": [
    {
     "name": "stdout",
     "output_type": "stream",
     "text": [
      "[{'first_name': 'Надя', 'last_name': 'Зуева', 'city': {'title': 'Долгопрудный', 'id': 857}, 'photo_50': 'https://pp.userapi.com/c845220/v845220812/941d4/lWj4dxyMpe8.jpg?ava=1', 'id': 83865491, 'verified': 0}]\n"
     ]
    }
   ],
   "source": [
    "token_ = '3f56933f686257f50b5aa78905ca38bc9d8b4d6a5e886704c8a8243bb07d32a85335c2afb85d513ca5a9f'\n",
    "session = vk_api.VkApi(token=token_)\n",
    "info=session.method('users.get', {'user_ids': 83865491, 'fields': 'photo_50, city, verified'})\n",
    "print(session.method('users.get', {'user_ids': 83865491, 'fields': 'photo_50, city, verified'}))"
   ]
  },
  {
   "cell_type": "code",
   "execution_count": 218,
   "metadata": {},
   "outputs": [
    {
     "data": {
      "text/plain": [
       "list"
      ]
     },
     "execution_count": 218,
     "metadata": {},
     "output_type": "execute_result"
    }
   ],
   "source": [
    "type(info)"
   ]
  },
  {
   "cell_type": "code",
   "execution_count": 219,
   "metadata": {},
   "outputs": [
    {
     "data": {
      "text/plain": [
       "'https://pp.userapi.com/c845220/v845220812/941d4/lWj4dxyMpe8.jpg?ava=1'"
      ]
     },
     "execution_count": 219,
     "metadata": {},
     "output_type": "execute_result"
    }
   ],
   "source": [
    "info[0]['photo_50']"
   ]
  },
  {
   "cell_type": "code",
   "execution_count": 220,
   "metadata": {},
   "outputs": [
    {
     "name": "stdout",
     "output_type": "stream",
     "text": [
      "('Photo.jpg', <http.client.HTTPMessage object at 0x7f5c888b90f0>)\n"
     ]
    }
   ],
   "source": [
    "print(url.urlretrieve(filename='Photo.jpg',url='https://pp.userapi.com/c845220/v845220812/941d4/lWj4dxyMpe8.jpg'))"
   ]
  },
  {
   "cell_type": "code",
   "execution_count": 221,
   "metadata": {},
   "outputs": [
    {
     "data": {
      "image/jpeg": "[encoded data removed]",
      "text/plain": [
       "<IPython.core.display.Image object>"
      ]
     },
     "execution_count": 221,
     "metadata": {},
     "output_type": "execute_result"
    }
   ],
   "source": [
    "Image(filename='Photo.jpg')"
   ]
  },
  {
   "cell_type": "code",
   "execution_count": 222,
   "metadata": {},
   "outputs": [],
   "source": [
    "data = requests.get('https://api.vk.com/method/{METHOD_NAME}'.format(METHOD_NAME='Vkapi.users.get'),\n",
    "                    params={'user_ids': 83865491, 'fields': 'photo_50, city','v':5.0}).json()"
   ]
  },
  {
   "cell_type": "code",
   "execution_count": 223,
   "metadata": {},
   "outputs": [
    {
     "data": {
      "text/plain": [
       "{'error': {'error_code': 5,\n",
       "  'error_msg': 'User authorization failed: no access_token passed.',\n",
       "  'request_params': [{'key': 'oauth', 'value': '1'},\n",
       "   {'key': 'method', 'value': 'Vkapi.users.get'},\n",
       "   {'key': 'v', 'value': '5.0'},\n",
       "   {'key': 'user_ids', 'value': '83865491'},\n",
       "   {'key': 'fields', 'value': 'photo_50, city'}]}}"
      ]
     },
     "execution_count": 223,
     "metadata": {},
     "output_type": "execute_result"
    }
   ],
   "source": [
    "data"
   ]
  },
  {
   "cell_type": "code",
   "execution_count": 224,
   "metadata": {
    "scrolled": true
   },
   "outputs": [],
   "source": [
    "params = requests.get(url='https://api.vk.com/method/messages.getLongPollServer',\n",
    "                       params={'access_token': token,'v':5.0}).json()"
   ]
  },
  {
   "cell_type": "code",
   "execution_count": 225,
   "metadata": {},
   "outputs": [
    {
     "data": {
      "text/plain": [
       "{'response': {'key': '2cdb98a971136d4a999cf7ba15c1d0379d2ba8ca',\n",
       "  'server': 'imv4.vk.com/im1549',\n",
       "  'ts': 1677869083}}"
      ]
     },
     "execution_count": 225,
     "metadata": {},
     "output_type": "execute_result"
    }
   ],
   "source": [
    "params"
   ]
  },
  {
   "cell_type": "code",
   "execution_count": 236,
   "metadata": {},
   "outputs": [
    {
     "data": {
      "text/plain": [
       "'imv4.vk.com/im1549'"
      ]
     },
     "execution_count": 236,
     "metadata": {},
     "output_type": "execute_result"
    }
   ],
   "source": [
    "params['response']['server']"
   ]
  },
  {
   "cell_type": "code",
   "execution_count": 238,
   "metadata": {},
   "outputs": [],
   "source": [
    "#serv = 'https://{server}?act=a_check&key={key}&ts={ts}&wait=90&mode=2&version=2'\n",
    "#response = requests.get(serv.format(server=params['response']['server'],\n",
    "#                                  key=params['response']['key'], \n",
    "#                                 ts=params['response']['ts'])).json()\n",
    "#print(response)"
   ]
  },
  {
   "cell_type": "code",
   "execution_count": 245,
   "metadata": {},
   "outputs": [
    {
     "name": "stdout",
     "output_type": "stream",
     "text": [
      "{'response': {'key': '27df4c19bac426a2c12910897295c96db7840d81', 'ts': 1677869083, 'server': 'imv4.vk.com/im1549'}}\n"
     ]
    }
   ],
   "source": [
    "\n",
    "token = '3f56933f686257f50b5aa78905ca38bc9d8b4d6a5e886704c8a8243bb07d32a85335c2afb85d513ca5a9f'\n",
    "data = requests.get('https://api.vk.com/method/messages.getLongPollServer',\n",
    "                    params={'access_token': token, 'v':5.0}).json()  # получение ответа от сервера\n",
    "print(data)"
   ]
  },
  {
   "cell_type": "code",
   "execution_count": 246,
   "metadata": {},
   "outputs": [],
   "source": [
    "params=params['response']"
   ]
  },
  {
   "cell_type": "code",
   "execution_count": 247,
   "metadata": {},
   "outputs": [
    {
     "data": {
      "text/plain": [
       "{'key': '2cdb98a971136d4a999cf7ba15c1d0379d2ba8ca',\n",
       " 'server': 'imv4.vk.com/im1549',\n",
       " 'ts': 1677869083}"
      ]
     },
     "execution_count": 247,
     "metadata": {},
     "output_type": "execute_result"
    }
   ],
   "source": [
    "params"
   ]
  },
  {
   "cell_type": "code",
   "execution_count": null,
   "metadata": {},
   "outputs": [],
   "source": []
  }
 ],
 "metadata": {
  "anaconda-cloud": {},
  "kernelspec": {
   "display_name": "Python [conda env:anaconda3]",
   "language": "python",
   "name": "conda-env-anaconda3-py"
  },
  "language_info": {
   "codemirror_mode": {
    "name": "ipython",
    "version": 3
   },
   "file_extension": ".py",
   "mimetype": "text/x-python",
   "name": "python",
   "nbconvert_exporter": "python",
   "pygments_lexer": "ipython3",
   "version": "3.5.5"
  }
 },
 "nbformat": 4,
 "nbformat_minor": 2
}
