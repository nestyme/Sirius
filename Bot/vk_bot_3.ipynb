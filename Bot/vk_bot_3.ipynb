{
 "cells": [
  {
   "cell_type": "code",
   "execution_count": 4,
   "metadata": {
    "collapsed": true
   },
   "outputs": [],
   "source": [
    "import os\n",
    "import random\n",
    "import numpy as np\n",
    "import requests\n",
    "import vk_api\n",
    "import urllib.request\n",
    "from vk_api import VkUpload\n",
    "from vk_api.longpoll import VkLongPoll, VkEventType, VkLongpollMode"
   ]
  },
  {
   "cell_type": "code",
   "execution_count": 5,
   "metadata": {
    "collapsed": true
   },
   "outputs": [],
   "source": [
    "welcome=['привет', 'Привет','здарова', 'прив','дарова','Здарова', 'Халло', 'халло','Хелло', 'хэллоу','Хэллоу','хелоу','хело']\n",
    "how_are_you=['Как дела?','как дела?', 'как жизнь?', 'дела','дела?','как поживаешь?']\n",
    "agromsg=['Тупой','тупой','Ты дурак', 'Дурак', 'дурак', 'Дебил', 'дебил', 'дурачок', 'конченный', 'Конченный', 'глупый', 'Ты глупый', 'ты глупый','Баран', 'баран', 'тупой бот', 'Тупой бот', 'бяка', 'Бяка', 'Гадина', 'гадина', 'даун', 'Даун', 'Дэбил', 'дэбил', 'обормот', 'Обормот', 'Капец ты тупой','капец ты тупой', 'Лох', 'лох', 'критин', 'Критин', 'Мудак', 'мудак']\n",
    "agrootv=['Кто обзывается, тот тем и называется!', 'Если ты так будешь общаться, то я тебя побью', 'Фу, ужасное воспитание!','Было два стула, на какой сам сядешь, на какой бота посадишь', 'Я все маме расскажу!', 'За тобой уже выехали', 'Если ты меня еще раз оскорбишь,то тебе крышка', 'За школой в 5']\n",
    "randomanser=['Здорово', 'С тобой интересно общаться', 'Мне кажется, что неплохо', 'Ого', 'И вправду круто', 'Очень даже', 'Мне нравится', 'Пипееец', 'Оу маиин', 'Что? Серьезно? Четка!','В принципе неплохо!', 'Понятно, что-то еще?', 'Это действительно интересно!','Ого, расскажешь еще что-нибудь?','Не, давай общаться нормально!']\n",
    "token_='3f56933f686257f50b5aa78905ca38bc9d8b4d6a5e886704c8a8243bb07d32a85335c2afb85d513ca5a9f'\n",
    "whatDoUDo=['Что делаешь', 'делаешь']\n",
    "helper='На данный момент я умею отвечать на твои сообщения разного характера (будь то хорошие или плохие). В будущем я научусь редактировать аудиозаписи и накладывать туда разные голоса:)'"
   ]
  },
  {
   "cell_type": "code",
   "execution_count": null,
   "metadata": {
    "collapsed": false
   },
   "outputs": [
    {
     "name": "stdout",
     "output_type": "stream",
     "text": [
      "Initialized vk_session\n"
     ]
    }
   ],
   "source": [
    "def main():\n",
    "    #Запускаем сессию и авторизируем бота через токен\n",
    "    session = requests.Session()\n",
    "    vk_session = vk_api.VkApi(token=token_)\n",
    "    print('Initialized vk_session')\n",
    "    vk = vk_session.get_api()\n",
    "\n",
    "    #будем использовать longpoll api для онлайн-ответов от бота\n",
    "    longpoll = VkLongPoll(vk_session,preload_messages=True)\n",
    "    #ожидаем (listen) очередное событие event от пользователя\n",
    "    i = 0\n",
    "    for event in longpoll.listen():\n",
    "        i += 1\n",
    "        #если сообщение -- новое и прислано нашему боту, то обрабатываем его:\n",
    "        if event.type == VkEventType.MESSAGE_NEW and event.to_me:\n",
    "            s=agrootv\n",
    "            #print(dir(event))\n",
    "            #посмотрим, от кого пришло сообщение:\n",
    "            #найдем информацию о пользователе\n",
    "            usr_info = vk_session.method('users.get', {'user_ids': event.user_id, 'fields': 'photo_50, city, verified'})\n",
    "            name = usr_info[0]['first_name']\n",
    "            print(i,' Сообщение от ''{}: \"{}\"'.format(usr_info[0]['last_name'], event.text), end=' ')\n",
    "            print(event.attachments)\n",
    "            text_from_usr=event.text\n",
    "            text_from_usr_=text_from_usr.lower().split()\n",
    "            flag=0\n",
    "            for i in range(len(text_from_usr_)):\n",
    "                text_from_usr=text_from_usr_[i]\n",
    "                \n",
    "                \n",
    "                if text_from_usr in welcome:\n",
    "                    vk.messages.send(\n",
    "                            user_id=event.user_id,\n",
    "                            message='привет, '+name)\n",
    "                    print('==welocome==')\n",
    "                    flag += 1\n",
    "                    break\n",
    "                    \n",
    "                if text_from_usr in whatDoUDo:\n",
    "                    vk.messages.send(\n",
    "                            user_id=event.user_id,\n",
    "                            message='с тобой говорю, а ты?')\n",
    "                    print('==WhatDoUDo==')\n",
    "                    flag += 1\n",
    "                    break\n",
    "\n",
    "                if text_from_usr in ['help', 'Help']:\n",
    "                    vk.messages.send(\n",
    "                            user_id=event.user_id,\n",
    "                            message=helper)\n",
    "                    print('==Help==')\n",
    "                    flag += 1\n",
    "                    break\n",
    "\n",
    "                if text_from_usr in agromsg:\n",
    "                    r='сам ты '+text_from_usr\n",
    "                    agrootv.append(r)\n",
    "                    lol1=random.choice(agrootv)\n",
    "                    agrootv.remove(r)\n",
    "                    vk.messages.send(\n",
    "                            user_id=event.user_id,\n",
    "                            message=lol1)\n",
    "                    print('==Evil==')\n",
    "                    flag += 1\n",
    "                    break\n",
    "\n",
    "\n",
    "                if text_from_usr in how_are_you:\n",
    "                    vk.messages.send(\n",
    "                            user_id=event.user_id,\n",
    "                            message='неплохо, спасибо! А как твои дела?',)\n",
    "                    print('==HowAreYou==')\n",
    "                    flag += 1\n",
    "                    continue\n",
    "            if (len(text_from_usr_)==1) and flag==0:\n",
    "                    lol=random.choice(randomanser)\n",
    "                    vk.messages.send(\n",
    "                    user_id=event.user_id,\n",
    "                    message=lol)\n",
    "                    flag += 1\n",
    "                    print('==AnyText==') \n",
    "                    \n",
    "            else:\n",
    "                if not(isinstance(text_from_usr, str) and (len(text_from_usr)!=0)):\n",
    "                    try:\n",
    "                        if not(event.attachments['attach1_kind']=='audiomsg'):\n",
    "                            vk.messages.send(\n",
    "                                user_id=event.user_id,\n",
    "                                message='Пришли-ка лучше мне голосовое сообщение, дружок-пирожок'\n",
    "                            )\n",
    "                            continue\n",
    "                    except KeyError:\n",
    "                        vk.messages.send(user_id=event.user_id,\n",
    "                                         message='Пришли-ка лучше мне голосовое сообщение, дружок-пирожок'\n",
    "                            )\n",
    "                        continue\n",
    "                    else:\n",
    "                        vk.messages.send(\n",
    "                        user_id=event.user_id,\n",
    "                        message='Твое голосовое сообщение обрабатывается...'\n",
    "                        )\n",
    "\n",
    "                    print('==Attach recieved==')\n",
    "                    print(event.attachments)\n",
    "                    continue  \n",
    "                    \n",
    "            print('completed')\n",
    "\n",
    "                \n",
    "            \n",
    "            \n",
    "            \n",
    "            \n",
    "            \n",
    "            \n",
    "            \n",
    "            \n",
    "\n",
    "\n",
    "if __name__ == '__main__':\n",
    "    main()\n"
   ]
  },
  {
   "cell_type": "code",
   "execution_count": null,
   "metadata": {
    "collapsed": true
   },
   "outputs": [],
   "source": []
  },
  {
   "cell_type": "code",
   "execution_count": null,
   "metadata": {
    "collapsed": true
   },
   "outputs": [],
   "source": []
  }
 ],
 "metadata": {
  "anaconda-cloud": {},
  "kernelspec": {
   "display_name": "Python [default]",
   "language": "python",
   "name": "python3"
  },
  "language_info": {
   "codemirror_mode": {
    "name": "ipython",
    "version": 3
   },
   "file_extension": ".py",
   "mimetype": "text/x-python",
   "name": "python",
   "nbconvert_exporter": "python",
   "pygments_lexer": "ipython3",
   "version": "3.5.5"
  }
 },
 "nbformat": 4,
 "nbformat_minor": 2
}
